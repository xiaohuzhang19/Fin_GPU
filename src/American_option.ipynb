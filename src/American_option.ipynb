{
 "cells": [
  {
   "cell_type": "code",
   "execution_count": 2,
   "metadata": {},
   "outputs": [],
   "source": [
    "from models.mc import MonteCarloBase, hybridMonteCarlo\n",
    "import models.benchmarks as bm\n",
    "from models.longstaff import LSMC_Numpy, LSMC_OpenCL\n",
    "from models.pso import PSO_Numpy, PSO_OpenCL\n",
    "from models.utils import checkOpenCL\n",
    "\n",
    "import numpy as np\n",
    "import matplotlib.pyplot as plt"
   ]
  },
  {
   "cell_type": "code",
   "execution_count": 3,
   "metadata": {},
   "outputs": [
    {
     "name": "stdout",
     "output_type": "stream",
     "text": [
      "\n",
      "============================================================\n",
      "OpenCL Platforms and Devices\n",
      "============================================================\n",
      "Platform - Name: Apple\n",
      "Platform - Vendor: Apple\n",
      "Platform - Version: OpenCL 1.2 (Dec 13 2024 23:09:21)\n",
      "Platform - Profile: FULL_PROFILE\n",
      " --------------------------------------------------------\n",
      " Device - Name: Apple M3 Max\n",
      " Device - Type: ALL | GPU\n",
      " Device - Max Clock Speed: 1000 Mhz\n",
      " Device - Compute Units: 40\n",
      " Device - Global Memory: 48 GB\n",
      " Device - Constant Memory: 1 GB\n",
      " Device - Local Memory: 32 KB (LOCAL)\n",
      " Device - Max Buffer/Image Size: 9 GB\n",
      " Device - Max Work Group Size: 256\n",
      "\n",
      "\n"
     ]
    }
   ],
   "source": [
    "checkOpenCL()"
   ]
  },
  {
   "cell_type": "code",
   "execution_count": 4,
   "metadata": {},
   "outputs": [
    {
     "data": {
      "text/plain": [
       "array([[101.989784, 101.69084 ,  99.34267 , ..., 133.52338 , 139.88774 ,\n",
       "        139.86293 ],\n",
       "       [ 98.37808 ,  99.696434, 100.30378 , ...,  56.089516,  56.16673 ,\n",
       "         54.612133],\n",
       "       [101.2071  , 102.34518 , 104.56201 , ...,  87.054855,  84.48822 ,\n",
       "         85.74317 ],\n",
       "       ...,\n",
       "       [101.62027 , 103.51106 ,  99.449776, ...,  97.28607 ,  94.89542 ,\n",
       "         95.33876 ],\n",
       "       [ 99.443756,  96.016075,  98.36795 , ...,  84.803894,  83.4631  ,\n",
       "         81.18077 ],\n",
       "       [ 99.760635,  99.12108 ,  97.16456 , ...,  96.3229  ,  97.19287 ,\n",
       "         92.94715 ]], dtype=float32)"
      ]
     },
     "execution_count": 4,
     "metadata": {},
     "output_type": "execute_result"
    }
   ],
   "source": [
    "S0, r, sigma, T, nPath, nPeriod, K, opttype, nFish = 100.0, 0.03, 0.3, 1.0, 5000, 200, 115.0, 'P', 500\n",
    "# S0, r, sigma, T, nPath, nPeriod, K, opttype, nFish = 100.0, 0.03, 0.3, 1.0, 50000, 200, 110.0, 'P', 500\n",
    "mc = hybridMonteCarlo(S0, r, sigma, T, nPath, nPeriod, K, opttype, nFish)\n",
    "mc.St"
   ]
  },
  {
   "cell_type": "code",
   "execution_count": 5,
   "metadata": {},
   "outputs": [],
   "source": [
    "# St_full = np.concatenate( (np.full(shape=(nPath, 1), fill_value=S0), mcBase.St) , axis=1)\n",
    "# St_full\n",
    "# plt.plot(St_full.T, color=\"b\", lw=.7, alpha=.7)\n",
    "# plt.show()"
   ]
  },
  {
   "cell_type": "code",
   "execution_count": 6,
   "metadata": {},
   "outputs": [
    {
     "name": "stdout",
     "output_type": "stream",
     "text": [
      "Black-Scholes price: 19.243573269491435\n",
      "Binomial European price: 19.251305064768164\n",
      "MonteCarlo Numpy European price: 19.3273125\n",
      "MonteCarlo OpenCL_GPU European price: 19.3273078125\n",
      "Binomial American price: 19.92214479009919\n"
     ]
    },
    {
     "data": {
      "text/plain": [
       "19.92214479009919"
      ]
     },
     "execution_count": 6,
     "metadata": {},
     "output_type": "execute_result"
    }
   ],
   "source": [
    "# benchmarks\n",
    "bm.blackScholes(S0, K, r, sigma, T, opttype)\n",
    "bm.binomialEuroOption(S0, K, r, sigma, nPeriod, T, opttype)\n",
    "mc.getEuroOption_np()\n",
    "mc.getEuroOption_cl()\n",
    "bm.binomialAmericanOption(S0, K, r, sigma, nPeriod, T, opttype)"
   ]
  },
  {
   "cell_type": "code",
   "execution_count": 7,
   "metadata": {},
   "outputs": [
    {
     "name": "stdout",
     "output_type": "stream",
     "text": [
      "Longstaff numpy price: 19.84065492854219\n"
     ]
    },
    {
     "data": {
      "text/plain": [
       "19.84065492854219"
      ]
     },
     "execution_count": 7,
     "metadata": {},
     "output_type": "execute_result"
    }
   ],
   "source": [
    "lsmc_np = LSMC_Numpy(mc, inverseType='benchmark_pinv')\n",
    "C_hat, _, _ = lsmc_np.longstaff_schwartz_itm_path_fast()\n",
    "C_hat"
   ]
  },
  {
   "cell_type": "code",
   "execution_count": 8,
   "metadata": {},
   "outputs": [
    {
     "name": "stdout",
     "output_type": "stream",
     "text": [
      "Longstaff OpenCL_GPU price: 20.050673423405133\n"
     ]
    },
    {
     "data": {
      "text/plain": [
       "20.050673423405133"
      ]
     },
     "execution_count": 8,
     "metadata": {},
     "output_type": "execute_result"
    }
   ],
   "source": [
    "lsmc_cl = LSMC_OpenCL(mc, inverseType='GJ')\n",
    "C_hat, _, _ = lsmc_cl.longstaff_schwartz_itm_path_fast_hybrid()\n",
    "C_hat"
   ]
  },
  {
   "cell_type": "code",
   "execution_count": 9,
   "metadata": {},
   "outputs": [
    {
     "name": "stdout",
     "output_type": "stream",
     "text": [
      "Pso numpy price: 20.038209915161133\n"
     ]
    },
    {
     "data": {
      "text/plain": [
       "20.03821"
      ]
     },
     "execution_count": 9,
     "metadata": {},
     "output_type": "execute_result"
    }
   ],
   "source": [
    "pso_np = PSO_Numpy(mc, nFish, mc.costPsoAmerOption_np)\n",
    "pso_np.solvePsoAmerOption_np()"
   ]
  },
  {
   "cell_type": "code",
   "execution_count": 10,
   "metadata": {},
   "outputs": [
    {
     "name": "stdout",
     "output_type": "stream",
     "text": [
      "Pso OpenCL_GPU price: 20.038240432739258\n"
     ]
    }
   ],
   "source": [
    "pso_cl = PSO_OpenCL(mc, nFish, mc.costPsoAmerOption_cl)\n",
    "pso_cl.solvePsoAmerOption_cl()\n",
    "\n",
    "# clear up memory\n",
    "pso_cl.cleanUp()\n",
    "mc.cleanUp()"
   ]
  },
  {
   "cell_type": "code",
   "execution_count": null,
   "metadata": {},
   "outputs": [],
   "source": []
  }
 ],
 "metadata": {
  "kernelspec": {
   "display_name": "Python 3",
   "language": "python",
   "name": "python3"
  },
  "language_info": {
   "codemirror_mode": {
    "name": "ipython",
    "version": 3
   },
   "file_extension": ".py",
   "mimetype": "text/x-python",
   "name": "python",
   "nbconvert_exporter": "python",
   "pygments_lexer": "ipython3",
   "version": "3.9.6"
  }
 },
 "nbformat": 4,
 "nbformat_minor": 2
}
